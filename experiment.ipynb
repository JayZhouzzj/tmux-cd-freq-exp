{
 "cells": [
  {
   "cell_type": "markdown",
   "metadata": {},
   "source": [
    "Fetch commit history from tmux GitHub repo\n"
   ]
  },
  {
   "cell_type": "code",
   "execution_count": 55,
   "metadata": {},
   "outputs": [],
   "source": [
    "import pandas as pd\n",
    "import csv\n",
    "import requests\n",
    "from datetime import datetime, timedelta\n",
    "import re\n",
    "import matplotlib.pyplot as plt\n",
    "import seaborn as sns\n",
    "owner = \"tmux\"\n",
    "repo = \"tmux\"\n",
    "branch = \"master\"\n",
    "days = 1826  # 5 years\n",
    "since = (datetime.now() - timedelta(days=days)).isoformat()"
   ]
  },
  {
   "cell_type": "code",
   "execution_count": null,
   "metadata": {},
   "outputs": [],
   "source": [
    "base_url = f\"https://api.github.com/repos/{owner}/{repo}/commits\"\n",
    "params = {\"sha\": \"master\", \"since\": since, \"per_page\": 100}\n",
    "\n",
    "\n",
    "def fetch_commit_history(url, params):\n",
    "    commit_history = []\n",
    "    while url:\n",
    "        response = requests.get(url, params=params)\n",
    "        if response.status_code == 200:\n",
    "            commits = response.json()\n",
    "            for commit in commits:\n",
    "                commit_hash = commit['sha']\n",
    "                author_name = commit['commit']['author']['name']\n",
    "                commit_date = commit['commit']['author']['date']\n",
    "                commit_message = commit['commit']['message']\n",
    "                commit_url = commit['html_url']\n",
    "                commit_history.append(\n",
    "                    {\n",
    "                        \"date\": commit_date,\n",
    "                        \"hash\": commit_hash,\n",
    "                        \"message\": commit_message,\n",
    "                        \"author_name\": author_name,\n",
    "                        \"url\": commit_url,\n",
    "                    }\n",
    "                )\n",
    "            # Pagination\n",
    "            if \"next\" in response.links:\n",
    "                url = response.links[\"next\"][\"url\"]\n",
    "                params = {}  # Clear params since URL will contain them\n",
    "            else:\n",
    "                url = None\n",
    "        else:\n",
    "            print(\"Failed to fetch commits. Status Code:\", response.status_code)\n",
    "            break\n",
    "    return commit_history\n",
    "\n",
    "\n",
    "print(\n",
    "    f\"fetching commits since {since} from {owner}/{repo} on branch {branch}...\")\n",
    "commit_history = fetch_commit_history(base_url, params)\n",
    "print(f\"successfully fetched {len(commit_history)} commits\")\n",
    "\n",
    "with open(\"commit_history.csv\", mode=\"w\", newline=\"\", encoding=\"utf-8\") as file:\n",
    "    writer = csv.DictWriter(\n",
    "        file,\n",
    "        fieldnames=[\n",
    "            \"date\",\n",
    "            \"hash\",\n",
    "            \"message\",\n",
    "            \"author_name\",\n",
    "            \"url\",\n",
    "        ],\n",
    "    )\n",
    "    writer.writeheader()\n",
    "    writer.writerows(commit_history)\n",
    "\n",
    "print(\n",
    "    f\"Successfully written {len(commit_history)} commits to commit_history.csv\"\n",
    ")"
   ]
  },
  {
   "cell_type": "markdown",
   "metadata": {},
   "source": [
    "Fetch release history from GitHub repo\n"
   ]
  },
  {
   "cell_type": "code",
   "execution_count": 18,
   "metadata": {},
   "outputs": [
    {
     "name": "stdout",
     "output_type": "stream",
     "text": [
      "Successfully written 35 releases to release_history.csv\n"
     ]
    }
   ],
   "source": [
    "url = f\"https://api.github.com/repos/{owner}/{repo}/releases\"\n",
    "\n",
    "# Fetch all releases\n",
    "releases = []\n",
    "while url:\n",
    "    response = requests.get(url)\n",
    "    if response.status_code == 200:\n",
    "        releases.extend(response.json())\n",
    "        url = response.links.get(\"next\", {}).get(\"url\", None)\n",
    "    else:\n",
    "        print(f\"Failed to fetch releases: {response.status_code}\")\n",
    "        break\n",
    "\n",
    "# Write to CSV\n",
    "with open(\"release_history.csv\", \"w\", newline=\"\", encoding=\"utf-8\") as file:\n",
    "    writer = csv.writer(file)\n",
    "    writer.writerow([\"Release Name\", \"Tag Name\", \"Created At\", \"Published At\"])\n",
    "    for release in releases:\n",
    "        writer.writerow(\n",
    "            [\n",
    "                release[\"name\"],\n",
    "                release[\"tag_name\"],\n",
    "                release[\"created_at\"],\n",
    "                release[\"published_at\"],\n",
    "            ]\n",
    "        )\n",
    "\n",
    "print(f\"Successfully written {len(releases)} releases to release_history.csv\")"
   ]
  },
  {
   "cell_type": "markdown",
   "metadata": {},
   "source": [
    "Fetch issues from GitHub repo\n"
   ]
  },
  {
   "cell_type": "code",
   "execution_count": 43,
   "metadata": {},
   "outputs": [
    {
     "name": "stdout",
     "output_type": "stream",
     "text": [
      "Successfully written 3786 issues to issue_history.csv\n"
     ]
    }
   ],
   "source": [
    "params = {\"state\": \"closed\", \"since\": {since}, \"per_page\": 100}\n",
    "\n",
    "issues_history = []\n",
    "\n",
    "url = f\"https://api.github.com/repos/{owner}/{repo}/issues\"\n",
    "\n",
    "while url:\n",
    "    response = requests.get(url, params=params)\n",
    "    if response.status_code == 200:\n",
    "        issues = response.json()\n",
    "        for issue in issues:\n",
    "            if \"number\" in issue and \"closed_at\" in issue:\n",
    "                issues_history .append(\n",
    "                    {\"Issue Number\": issue[\"number\"], \"Closed At\": issue[\"closed_at\"]}\n",
    "                )\n",
    "        url = response.links[\"next\"][\"url\"] if \"next\" in response.links else None\n",
    "    else:\n",
    "        print(\"Failed to fetch issues. Status Code:\", response.status_code)\n",
    "        break\n",
    "\n",
    "with open(\"issue_history.csv\", \"w\", newline=\"\", encoding=\"utf-8\") as file:\n",
    "    writer = csv.writer(file)\n",
    "    writer.writerow([\"Issue Number\", \"Closed At\"])\n",
    "    for issue in issues_history :\n",
    "        writer.writerow([issue[\"Issue Number\"], issue[\"Closed At\"]])\n",
    "        \n",
    "print(f\"Successfully written {len(issues_history )} issues to issue_history.csv\")"
   ]
  },
  {
   "cell_type": "markdown",
   "metadata": {},
   "source": [
    "Process commit history to match with issues"
   ]
  },
  {
   "cell_type": "code",
   "execution_count": 49,
   "metadata": {},
   "outputs": [
    {
     "name": "stdout",
     "output_type": "stream",
     "text": [
      "Successfully written commit_history_linked_with_issues.csv\n"
     ]
    }
   ],
   "source": [
    "commit_history = pd.read_csv('commit_history.csv')\n",
    "issues_history = pd.read_csv('issue_history.csv')\n",
    "\n",
    "\n",
    "def extract_issue_number(message):\n",
    "    pattern = r\"GitHub issue (\\d+)\"\n",
    "    match = re.search(pattern, message)\n",
    "    return int(match.group(1)) if match else None\n",
    "\n",
    "\n",
    "commit_history['Linked Issue'] = commit_history['message'].apply(extract_issue_number)\n",
    "commit_history = commit_history.merge(issues_history, left_on='Linked Issue', right_on='Issue Number', how='inner')\n",
    "commit_history.loc[commit_history['Closed At'].notnull(), 'date'] = commit_history['Closed At']\n",
    "commit_history['Is Linked to Issue'] = commit_history['Linked Issue'].notnull()\n",
    "\n",
    "# Save the updated commit history\n",
    "commit_history.to_csv('commit_history_linked_with_issues.csv', index=False)\n",
    "print(\"Successfully written commit_history_linked_with_issues.csv\")\n"
   ]
  },
  {
   "cell_type": "markdown",
   "metadata": {},
   "source": [
    "Compute time from release-ready to actual release: manual vs CD\n"
   ]
  },
  {
   "cell_type": "code",
   "execution_count": 53,
   "metadata": {},
   "outputs": [
    {
     "name": "stdout",
     "output_type": "stream",
     "text": [
      "Successfully written processed_commit_history.csv\n"
     ]
    }
   ],
   "source": [
    "def find_next_release(commit_date, release_dates):\n",
    "    future_releases = release_dates[release_dates > commit_date]\n",
    "    if not future_releases.empty:\n",
    "        return future_releases.iloc[0]\n",
    "    return None\n",
    "\n",
    "def find_next_merge(commit_date, merge_dates):\n",
    "    future_merges = merge_dates[merge_dates > commit_date]\n",
    "    if not future_merges.empty:\n",
    "        return future_merges.iloc[0]\n",
    "    return None\n",
    "\n",
    "release_history = pd.read_csv(\"release_history.csv\")\n",
    "release_history[\"Published At\"] = pd.to_datetime(\n",
    "    release_history[\"Published At\"])\n",
    "release_history = release_history.sort_values(by=\"Published At\")\n",
    "\n",
    "commit_history = pd.read_csv('commit_history_linked_with_issues.csv')\n",
    "commit_history[\"date\"] = pd.to_datetime(commit_history[\"date\"])\n",
    "\n",
    "# Identifying merge commits\n",
    "merge_commits = commit_history[\n",
    "    commit_history[\"message\"].str.contains(\n",
    "        \"Merge branch 'obsd-master'\", case=False, na=False\n",
    "    )\n",
    "]\n",
    "merge_commits = merge_commits.sort_values(by=\"date\")\n",
    "\n",
    "commit_history = commit_history[commit_history[\"Is Linked to Issue\"] == True]\n",
    "commit_history[\"Closed At\"] = pd.to_datetime(commit_history[\"Closed At\"])\n",
    "commit_history = commit_history.sort_values(by=\"Closed At\")\n",
    "commit_history[\"Next Release Time\"] = commit_history[\"Closed At\"].apply(\n",
    "    lambda x: find_next_release(x, release_history[\"Published At\"])\n",
    ")\n",
    "commit_history[\"Time to Next Release (Days)\"] = (\n",
    "    commit_history[\"Next Release Time\"] - commit_history[\"Closed At\"]\n",
    ").dt.total_seconds() / (60 * 60 * 24)\n",
    "commit_history[\"Next Merge Time\"] = commit_history[\"Closed At\"].apply(\n",
    "    lambda x: find_next_merge(x, merge_commits[\"date\"])\n",
    ")\n",
    "commit_history[\"Time to Next Merge (Days)\"] = (\n",
    "    commit_history[\"Next Merge Time\"] - commit_history[\"Closed At\"]\n",
    ").dt.total_seconds() / (60 * 60 * 24)\n",
    "\n",
    "commit_history = commit_history[\n",
    "    (commit_history[\"Time to Next Release (Days)\"].notnull())\n",
    "    & (commit_history[\"Time to Next Merge (Days)\"].notnull())\n",
    "]\n",
    "\n",
    "commit_history.to_csv(\"processed_commit_history.csv\", index=False)\n",
    "print(\"Successfully written processed_commit_history.csv\")"
   ]
  },
  {
   "cell_type": "markdown",
   "metadata": {},
   "source": [
    "Analysis"
   ]
  },
  {
   "cell_type": "code",
   "execution_count": 60,
   "metadata": {},
   "outputs": [
    {
     "data": {
      "image/png": "[encoded data removed]",
      "text/plain": [
       "<Figure size 640x480 with 1 Axes>"
      ]
     },
     "metadata": {},
     "output_type": "display_data"
    },
    {
     "data": {
      "image/png": "[encoded data removed]",
      "text/plain": [
       "<Figure size 640x480 with 1 Axes>"
      ]
     },
     "metadata": {},
     "output_type": "display_data"
    }
   ],
   "source": [
    "df = pd.read_csv(\"processed_commit_history.csv\")\n",
    "\n",
    "# Renaming columns for clarity\n",
    "df.rename(\n",
    "    columns={\n",
    "        \"Time to Next Release (Days)\": \"Manual Release Delay (Days)\",\n",
    "        \"Time to Next Merge (Days)\":  \"CD Release Delay (Days)\",\n",
    "    },\n",
    "    inplace=True,\n",
    ")\n",
    "\n",
    "# Plot CDF for Manual and CD release delays\n",
    "plt.figure()\n",
    "sns.ecdfplot(data=df, x=\"Manual Release Delay (Days)\", label='Manual Deployment', marker='.', linestyle='none')\n",
    "sns.ecdfplot(data=df, x=\"CD Release Delay (Days)\", label='Continuous Delivery', marker='.', linestyle='none')\n",
    "plt.title('CDF of Release Delays')\n",
    "plt.xlabel('Days to Release')\n",
    "plt.ylabel('CDF')\n",
    "plt.legend()\n",
    "plt.savefig('cdf_plot.png', bbox_inches='tight', dpi=300)\n",
    "\n",
    "# Plot Box plot for Manual and CD release delays\n",
    "plt.figure()\n",
    "sns.boxplot(data=df[['Manual Release Delay (Days)', 'CD Release Delay (Days)']])\n",
    "plt.title('Box Plot of Release Delays')\n",
    "plt.ylabel('Days to Release')\n",
    "plt.xticks([0, 1], ['Manual Deployment', 'Continuous Delivery'])\n",
    "plt.savefig('box_plot.png', bbox_inches='tight', dpi=300)\n",
    "\n",
    "plt.show()"
   ]
  },
  {
   "cell_type": "code",
   "execution_count": null,
   "metadata": {},
   "outputs": [],
   "source": []
  }
 ],
 "metadata": {
  "kernelspec": {
   "display_name": "venv",
   "language": "python",
   "name": "python3"
  },
  "language_info": {
   "codemirror_mode": {
    "name": "ipython",
    "version": 3
   },
   "file_extension": ".py",
   "mimetype": "text/x-python",
   "name": "python",
   "nbconvert_exporter": "python",
   "pygments_lexer": "ipython3",
   "version": "3.9.6"
  }
 },
 "nbformat": 4,
 "nbformat_minor": 2
}
